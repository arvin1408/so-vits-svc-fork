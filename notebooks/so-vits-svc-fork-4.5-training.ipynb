{
 "cells": [
  {
   "attachments": {},
   "cell_type": "markdown",
   "metadata": {},
   "source": [
    "## Before training\n",
    "\n",
    "This program saves the last 3 generations of models to Google Drive. Since 1 generation of models is >1GB, you should have at least 3GB of free space in Google Drive. If you do not have such free space, it is recommended to create another Google Account.\n",
    "\n",
    "Training requires >10GB VRAM. (T4 should be enough) Inference does not require such a lot of VRAM."
   ]
  },
  {
   "attachments": {},
   "cell_type": "markdown",
   "metadata": {},
   "source": [
    "## Installation"
   ]
  },
  {
   "cell_type": "code",
   "execution_count": 1,
   "metadata": {},
   "outputs": [
    {
     "name": "stdout",
     "output_type": "stream",
     "text": [
      "Fri Jun  9 01:39:13 2023       \n",
      "+-----------------------------------------------------------------------------+\n",
      "| NVIDIA-SMI 525.116.04   Driver Version: 525.116.04   CUDA Version: 12.0     |\n",
      "|-------------------------------+----------------------+----------------------+\n",
      "| GPU  Name        Persistence-M| Bus-Id        Disp.A | Volatile Uncorr. ECC |\n",
      "| Fan  Temp  Perf  Pwr:Usage/Cap|         Memory-Usage | GPU-Util  Compute M. |\n",
      "|                               |                      |               MIG M. |\n",
      "|===============================+======================+======================|\n",
      "|   0  NVIDIA GeForce ...  On   | 00000000:01:00.0 Off |                  N/A |\n",
      "|  0%   48C    P8    18W / 125W |      6MiB /  6144MiB |      0%      Default |\n",
      "|                               |                      |                  N/A |\n",
      "+-------------------------------+----------------------+----------------------+\n",
      "                                                                               \n",
      "+-----------------------------------------------------------------------------+\n",
      "| Processes:                                                                  |\n",
      "|  GPU   GI   CI        PID   Type   Process name                  GPU Memory |\n",
      "|        ID   ID                                                   Usage      |\n",
      "|=============================================================================|\n",
      "|    0   N/A  N/A      1310      G   /usr/lib/xorg/Xorg                  4MiB |\n",
      "+-----------------------------------------------------------------------------+\n"
     ]
    }
   ],
   "source": [
    "#@title Check GPU\n",
    "!nvidia-smi"
   ]
  },
  {
   "cell_type": "code",
   "execution_count": 2,
   "metadata": {},
   "outputs": [],
   "source": [
    "#@title Mount Google Drive\n",
    "# from google.colab import drive\n",
    "# drive.mount('/content/drive')"
   ]
  },
  {
   "cell_type": "code",
   "execution_count": 3,
   "metadata": {},
   "outputs": [],
   "source": [
    "#@title Install dependencies\n",
    "#@markdown pip may fail to resolve dependencies and raise ERROR, but it can be ignored.\n",
    "# !python -m pip install -U pip wheel\n",
    "# %pip install -U ipython \n",
    "\n",
    "# #@markdown Branch (for development)\n",
    "# BRANCH = \"none\" #@param {\"type\": \"string\"}\n",
    "# if BRANCH == \"none\":\n",
    "#     %pip install -U so-vits-svc-fork\n",
    "# else:\n",
    "#     %pip install -U git+https://github.com/34j/so-vits-svc-fork.git@{BRANCH}"
   ]
  },
  {
   "attachments": {},
   "cell_type": "markdown",
   "metadata": {},
   "source": [
    "## Preprocessing"
   ]
  },
  {
   "cell_type": "code",
   "execution_count": 2,
   "metadata": {},
   "outputs": [],
   "source": [
    "import os, shutil\n",
    "from os.path import dirname, abspath\n",
    "from utils.demucs.utils import separate\n",
    "\n",
    "import librosa  # Optional. Use any library you like to read audio files.\n",
    "import soundfile  # Optional. Use any library you like to write audio files.\n",
    "from utils.audioslicer.slicer import Slicer\n",
    "from utils.audiosplitter import audiosplitter\n",
    "\n",
    "def preprocess(audiofile):\n",
    "   # audiofile = '../dataset_raw/ssk/speaking/ssk_podcast_20230825.mp3'\n",
    "   filename, ext = os.path.splitext(os.path.basename(audiofile))\n",
    "\n",
    "   # create output dir\n",
    "   output_dir = os.path.join('/home/arvin/so-vits-svc-fork/dataset_processed', filename)\n",
    "   demucs_dir = os.path.join(output_dir, 'demucs')\n",
    "   chunks_dir = os.path.join(output_dir, 'chunks_clean')\n",
    "\n",
    "   # Create folders\n",
    "   for path in [output_dir, demucs_dir, chunks_dir]:\n",
    "      if not os.path.exists(path):\n",
    "         os.makedirs(path, exist_ok=True)\n",
    "\n",
    "   # Copy raw file to output folder root\n",
    "   shutil.copy(audiofile, output_dir)\n",
    "\n",
    "   # DEMUCS\n",
    "   separate(inp=output_dir, outp=demucs_dir)\n",
    "\n",
    "   # SILENCE SLICER\n",
    "   demucs_model = 'htdemucs'\n",
    "   audiofile = os.path.join(demucs_dir, demucs_model, filename, 'vocals.mp3')\n",
    "   audio, sr = librosa.load(audiofile, sr=None, mono=False)  # Load an audio file with librosa.\n",
    "   slicer = Slicer(\n",
    "      sr=sr,\n",
    "      db_threshold=-40,\n",
    "      min_length=5000,\n",
    "      win_l = 300, # min_interval=300,\n",
    "      win_s = 10, # hop_size=10,\n",
    "      max_silence_kept=200\n",
    "   )\n",
    "   chunks = slicer.slice(audio)\n",
    "   for i, chunk in enumerate(chunks):\n",
    "      if len(chunk.shape) > 1:\n",
    "         chunk = chunk.T  # Swap axes if the audio is stereo.\n",
    "      soundfile.write(f'{chunks_dir}/{filename}_{i}.wav', chunk, sr)  # Save sliced audio files with soundfile.\n",
    "\n",
    "   # 10SEC SPLITTER\n",
    "   audiosplitter.run_audiosplitter(input_directory=chunks_dir)\n",
    "\n",
    "   return\n",
    "   # split_audio_file(chunks_dir, segment_duration=10)      "
   ]
  },
  {
   "cell_type": "code",
   "execution_count": 3,
   "metadata": {},
   "outputs": [
    {
     "name": "stdout",
     "output_type": "stream",
     "text": [
      "========================================================================================================================\n",
      "FILE: /home/arvin/so-vits-svc-fork/dataset_source/edsheeran_x/16 I See Fire.mp3\n",
      "========================================================================================================================\n",
      "Going to separate the files:\n",
      "/home/arvin/so-vits-svc-fork/dataset_processed/16 I See Fire/16 I See Fire.mp3\n",
      "With command:  python3 -m demucs.separate -o /home/arvin/so-vits-svc-fork/dataset_processed/16 I See Fire/demucs -n htdemucs --mp3 --mp3-bitrate=320\n",
      "Selected model is a bag of 1 models. You will see that many progress bars per track.\n",
      "Separated tracks will be stored in /home/arvin/so-vits-svc-fork/dataset_processed/16 I See Fire/demucs/htdemucs\n",
      "Separating track /home/arvin/so-vits-svc-fork/dataset_processed/16 I See Fire/16 I See Fire.mp3\n"
     ]
    },
    {
     "name": "stderr",
     "output_type": "stream",
     "text": [
      "100%|████████████████████████████████████████████████████████████████████████| 304.2/304.2 [00:12<00:00, 25.33seconds/s]\n"
     ]
    },
    {
     "name": "stdout",
     "output_type": "stream",
     "text": [
      "executing 'slice' cost 18.144s\n",
      "Segment 1/1 saved: 16 I See Fire_2_1.wav\n",
      "Segment 1/2 saved: 16 I See Fire_8_1.wav\n",
      "Segment 2/2 saved: 16 I See Fire_8_2.wav\n",
      "Segment 1/1 saved: 16 I See Fire_6_1.wav\n",
      "Segment 1/2 saved: 16 I See Fire_13_1.wav\n",
      "Segment 2/2 saved: 16 I See Fire_13_2.wav\n",
      "Segment 1/2 saved: 16 I See Fire_7_1.wav\n",
      "Segment 2/2 saved: 16 I See Fire_7_2.wav\n",
      "Segment 1/2 saved: 16 I See Fire_17_1.wav\n",
      "Segment 2/2 saved: 16 I See Fire_17_2.wav\n",
      "Segment 1/1 saved: 16 I See Fire_0_1.wav\n",
      "Segment 1/2 saved: 16 I See Fire_11_1.wav\n",
      "Segment 2/2 saved: 16 I See Fire_11_2.wav\n",
      "Segment 1/2 saved: 16 I See Fire_16_1.wav\n",
      "Segment 2/2 saved: 16 I See Fire_16_2.wav\n",
      "Segment 1/2 saved: 16 I See Fire_4_1.wav\n",
      "Segment 2/2 saved: 16 I See Fire_4_2.wav\n",
      "Segment 1/1 saved: 16 I See Fire_9_1.wav\n",
      "Segment 1/2 saved: 16 I See Fire_12_1.wav\n",
      "Segment 2/2 saved: 16 I See Fire_12_2.wav\n",
      "Segment 1/1 saved: 16 I See Fire_3_1.wav\n",
      "Segment 1/1 saved: 16 I See Fire_1_1.wav\n",
      "Segment 1/3 saved: 16 I See Fire_18_1.wav\n",
      "Segment 2/3 saved: 16 I See Fire_18_2.wav\n",
      "Segment 3/3 saved: 16 I See Fire_18_3.wav\n",
      "Segment 1/2 saved: 16 I See Fire_14_1.wav\n",
      "Segment 2/2 saved: 16 I See Fire_14_2.wav\n",
      "Segment 1/1 saved: 16 I See Fire_10_1.wav\n",
      "Segment 1/5 saved: 16 I See Fire_19_1.wav\n",
      "Segment 2/5 saved: 16 I See Fire_19_2.wav\n",
      "Segment 3/5 saved: 16 I See Fire_19_3.wav\n",
      "Segment 4/5 saved: 16 I See Fire_19_4.wav\n",
      "Segment 5/5 saved: 16 I See Fire_19_5.wav\n",
      "Segment 1/1 saved: 16 I See Fire_15_1.wav\n",
      "Segment 1/1 saved: 16 I See Fire_5_1.wav\n",
      "========================================================================================================================\n",
      "FILE: /home/arvin/so-vits-svc-fork/dataset_source/edsheeran_x/12 Afire Love.mp3\n",
      "========================================================================================================================\n",
      "Going to separate the files:\n",
      "/home/arvin/so-vits-svc-fork/dataset_processed/12 Afire Love/12 Afire Love.mp3\n",
      "With command:  python3 -m demucs.separate -o /home/arvin/so-vits-svc-fork/dataset_processed/12 Afire Love/demucs -n htdemucs --mp3 --mp3-bitrate=320\n",
      "Selected model is a bag of 1 models. You will see that many progress bars per track.\n",
      "Separated tracks will be stored in /home/arvin/so-vits-svc-fork/dataset_processed/12 Afire Love/demucs/htdemucs\n",
      "Separating track /home/arvin/so-vits-svc-fork/dataset_processed/12 Afire Love/12 Afire Love.mp3\n"
     ]
    },
    {
     "name": "stderr",
     "output_type": "stream",
     "text": [
      "100%|████████████████████████████████████████████████████████████████████████| 315.9/315.9 [00:12<00:00, 25.45seconds/s]\n"
     ]
    },
    {
     "name": "stdout",
     "output_type": "stream",
     "text": [
      "executing 'slice' cost 19.042s\n",
      "Segment 1/2 saved: 12 Afire Love_7_1.wav\n",
      "Segment 2/2 saved: 12 Afire Love_7_2.wav\n",
      "Segment 1/1 saved: 12 Afire Love_0_1.wav\n",
      "Segment 1/3 saved: 12 Afire Love_10_1.wav\n",
      "Segment 2/3 saved: 12 Afire Love_10_2.wav\n",
      "Segment 3/3 saved: 12 Afire Love_10_3.wav\n",
      "Segment 1/3 saved: 12 Afire Love_4_1.wav\n",
      "Segment 2/3 saved: 12 Afire Love_4_2.wav\n",
      "Segment 3/3 saved: 12 Afire Love_4_3.wav\n",
      "Segment 1/1 saved: 12 Afire Love_1_1.wav\n",
      "Segment 1/1 saved: 12 Afire Love_9_1.wav\n",
      "Segment 1/2 saved: 12 Afire Love_2_1.wav\n",
      "Segment 2/2 saved: 12 Afire Love_2_2.wav\n",
      "Segment 1/1 saved: 12 Afire Love_6_1.wav\n",
      "Segment 1/1 saved: 12 Afire Love_8_1.wav\n",
      "Segment 1/2 saved: 12 Afire Love_11_1.wav\n",
      "Segment 2/2 saved: 12 Afire Love_11_2.wav\n",
      "Segment 1/9 saved: 12 Afire Love_12_1.wav\n",
      "Segment 2/9 saved: 12 Afire Love_12_2.wav\n",
      "Segment 3/9 saved: 12 Afire Love_12_3.wav\n",
      "Segment 4/9 saved: 12 Afire Love_12_4.wav\n",
      "Segment 5/9 saved: 12 Afire Love_12_5.wav\n",
      "Segment 6/9 saved: 12 Afire Love_12_6.wav\n",
      "Segment 7/9 saved: 12 Afire Love_12_7.wav\n",
      "Segment 8/9 saved: 12 Afire Love_12_8.wav\n",
      "Segment 9/9 saved: 12 Afire Love_12_9.wav\n",
      "Segment 1/2 saved: 12 Afire Love_5_1.wav\n",
      "Segment 2/2 saved: 12 Afire Love_5_2.wav\n",
      "Segment 1/1 saved: 12 Afire Love_3_1.wav\n",
      "Segment 1/2 saved: 12 Afire Love_13_1.wav\n",
      "Segment 2/2 saved: 12 Afire Love_13_2.wav\n",
      "========================================================================================================================\n",
      "FILE: /home/arvin/so-vits-svc-fork/dataset_source/edsheeran_x/11 Thinking Out Loud.mp3\n",
      "========================================================================================================================\n",
      "Going to separate the files:\n",
      "/home/arvin/so-vits-svc-fork/dataset_processed/11 Thinking Out Loud/11 Thinking Out Loud.mp3\n",
      "With command:  python3 -m demucs.separate -o /home/arvin/so-vits-svc-fork/dataset_processed/11 Thinking Out Loud/demucs -n htdemucs --mp3 --mp3-bitrate=320\n",
      "Selected model is a bag of 1 models. You will see that many progress bars per track.\n",
      "Separated tracks will be stored in /home/arvin/so-vits-svc-fork/dataset_processed/11 Thinking Out Loud/demucs/htdemucs\n",
      "Separating track /home/arvin/so-vits-svc-fork/dataset_processed/11 Thinking Out Loud/11 Thinking Out Loud.mp3\n"
     ]
    },
    {
     "name": "stderr",
     "output_type": "stream",
     "text": [
      "100%|██████████████████████████████████████████████████████████████████████| 286.65/286.65 [00:11<00:00, 25.32seconds/s]\n"
     ]
    },
    {
     "name": "stdout",
     "output_type": "stream",
     "text": [
      "executing 'slice' cost 17.174s\n",
      "Segment 1/3 saved: 11 Thinking Out Loud_18_1.wav\n",
      "Segment 2/3 saved: 11 Thinking Out Loud_18_2.wav\n",
      "Segment 3/3 saved: 11 Thinking Out Loud_18_3.wav\n",
      "Segment 1/1 saved: 11 Thinking Out Loud_13_1.wav\n",
      "Segment 1/1 saved: 11 Thinking Out Loud_14_1.wav\n",
      "Segment 1/1 saved: 11 Thinking Out Loud_1_1.wav\n",
      "Segment 1/2 saved: 11 Thinking Out Loud_7_1.wav\n",
      "Segment 2/2 saved: 11 Thinking Out Loud_7_2.wav\n",
      "Segment 1/3 saved: 11 Thinking Out Loud_17_1.wav\n",
      "Segment 2/3 saved: 11 Thinking Out Loud_17_2.wav\n",
      "Segment 3/3 saved: 11 Thinking Out Loud_17_3.wav\n",
      "Segment 1/1 saved: 11 Thinking Out Loud_12_1.wav\n",
      "Segment 1/1 saved: 11 Thinking Out Loud_10_1.wav\n",
      "Segment 1/1 saved: 11 Thinking Out Loud_9_1.wav\n",
      "Segment 1/2 saved: 11 Thinking Out Loud_16_1.wav\n",
      "Segment 2/2 saved: 11 Thinking Out Loud_16_2.wav\n",
      "Segment 1/1 saved: 11 Thinking Out Loud_11_1.wav\n",
      "Segment 1/1 saved: 11 Thinking Out Loud_2_1.wav\n",
      "Segment 1/2 saved: 11 Thinking Out Loud_8_1.wav\n",
      "Segment 2/2 saved: 11 Thinking Out Loud_8_2.wav\n",
      "Segment 1/1 saved: 11 Thinking Out Loud_0_1.wav\n",
      "Segment 1/2 saved: 11 Thinking Out Loud_5_1.wav\n",
      "Segment 2/2 saved: 11 Thinking Out Loud_5_2.wav\n",
      "Segment 1/1 saved: 11 Thinking Out Loud_6_1.wav\n",
      "Segment 1/1 saved: 11 Thinking Out Loud_4_1.wav\n",
      "Segment 1/5 saved: 11 Thinking Out Loud_15_1.wav\n",
      "Segment 2/5 saved: 11 Thinking Out Loud_15_2.wav\n",
      "Segment 3/5 saved: 11 Thinking Out Loud_15_3.wav\n",
      "Segment 4/5 saved: 11 Thinking Out Loud_15_4.wav\n",
      "Segment 5/5 saved: 11 Thinking Out Loud_15_5.wav\n",
      "Segment 1/1 saved: 11 Thinking Out Loud_3_1.wav\n",
      "========================================================================================================================\n",
      "FILE: /home/arvin/so-vits-svc-fork/dataset_source/edsheeran_x/15 Even My Dad Does Sometimes.mp3\n",
      "========================================================================================================================\n",
      "Going to separate the files:\n",
      "/home/arvin/so-vits-svc-fork/dataset_processed/15 Even My Dad Does Sometimes/15 Even My Dad Does Sometimes.mp3\n",
      "With command:  python3 -m demucs.separate -o /home/arvin/so-vits-svc-fork/dataset_processed/15 Even My Dad Does Sometimes/demucs -n htdemucs --mp3 --mp3-bitrate=320\n",
      "Selected model is a bag of 1 models. You will see that many progress bars per track.\n",
      "Separated tracks will be stored in /home/arvin/so-vits-svc-fork/dataset_processed/15 Even My Dad Does Sometimes/demucs/htdemucs\n",
      "Separating track /home/arvin/so-vits-svc-fork/dataset_processed/15 Even My Dad Does Sometimes/15 Even My Dad Does Sometimes.mp3\n"
     ]
    },
    {
     "name": "stderr",
     "output_type": "stream",
     "text": [
      "100%|████████████████████████████████████████████████████████████████████████| 234.0/234.0 [00:09<00:00, 24.80seconds/s]\n"
     ]
    },
    {
     "name": "stdout",
     "output_type": "stream",
     "text": [
      "executing 'slice' cost 13.901s\n",
      "Segment 1/1 saved: 15 Even My Dad Does Sometimes_13_1.wav\n",
      "Segment 1/1 saved: 15 Even My Dad Does Sometimes_16_1.wav\n",
      "Segment 1/1 saved: 15 Even My Dad Does Sometimes_10_1.wav\n",
      "Segment 1/1 saved: 15 Even My Dad Does Sometimes_7_1.wav\n",
      "Segment 1/1 saved: 15 Even My Dad Does Sometimes_15_1.wav\n",
      "Segment 1/1 saved: 15 Even My Dad Does Sometimes_9_1.wav\n",
      "Segment 1/1 saved: 15 Even My Dad Does Sometimes_11_1.wav\n",
      "Segment 1/1 saved: 15 Even My Dad Does Sometimes_2_1.wav\n",
      "Segment 1/1 saved: 15 Even My Dad Does Sometimes_17_1.wav\n",
      "Segment 1/1 saved: 15 Even My Dad Does Sometimes_3_1.wav\n",
      "Segment 1/5 saved: 15 Even My Dad Does Sometimes_14_1.wav\n",
      "Segment 2/5 saved: 15 Even My Dad Does Sometimes_14_2.wav\n",
      "Segment 3/5 saved: 15 Even My Dad Does Sometimes_14_3.wav\n",
      "Segment 4/5 saved: 15 Even My Dad Does Sometimes_14_4.wav\n",
      "Segment 5/5 saved: 15 Even My Dad Does Sometimes_14_5.wav\n",
      "Segment 1/1 saved: 15 Even My Dad Does Sometimes_8_1.wav\n",
      "Segment 1/1 saved: 15 Even My Dad Does Sometimes_12_1.wav\n",
      "Segment 1/1 saved: 15 Even My Dad Does Sometimes_0_1.wav\n",
      "Segment 1/1 saved: 15 Even My Dad Does Sometimes_5_1.wav\n",
      "Segment 1/1 saved: 15 Even My Dad Does Sometimes_4_1.wav\n",
      "Segment 1/1 saved: 15 Even My Dad Does Sometimes_6_1.wav\n",
      "Segment 1/1 saved: 15 Even My Dad Does Sometimes_1_1.wav\n",
      "========================================================================================================================\n",
      "FILE: /home/arvin/so-vits-svc-fork/dataset_source/edsheeran_x/02 I'm a Mess.mp3\n",
      "========================================================================================================================\n",
      "Going to separate the files:\n",
      "/home/arvin/so-vits-svc-fork/dataset_processed/02 I'm a Mess/02 I'm a Mess.mp3\n",
      "With command:  python3 -m demucs.separate -o /home/arvin/so-vits-svc-fork/dataset_processed/02 I'm a Mess/demucs -n htdemucs --mp3 --mp3-bitrate=320\n",
      "Selected model is a bag of 1 models. You will see that many progress bars per track.\n",
      "Separated tracks will be stored in /home/arvin/so-vits-svc-fork/dataset_processed/02 I'm a Mess/demucs/htdemucs\n",
      "Separating track /home/arvin/so-vits-svc-fork/dataset_processed/02 I'm a Mess/02 I'm a Mess.mp3\n"
     ]
    },
    {
     "name": "stderr",
     "output_type": "stream",
     "text": [
      "100%|████████████████████████████████████████████████████████████████████████| 245.7/245.7 [00:09<00:00, 24.89seconds/s]\n"
     ]
    },
    {
     "name": "stdout",
     "output_type": "stream",
     "text": [
      "executing 'slice' cost 15.089s\n",
      "Segment 1/1 saved: 02 I'm a Mess_6_1.wav\n",
      "Segment 1/1 saved: 02 I'm a Mess_1_1.wav\n",
      "Segment 1/1 saved: 02 I'm a Mess_7_1.wav\n",
      "Segment 1/9 saved: 02 I'm a Mess_16_1.wav\n",
      "Segment 2/9 saved: 02 I'm a Mess_16_2.wav\n",
      "Segment 3/9 saved: 02 I'm a Mess_16_3.wav\n",
      "Segment 4/9 saved: 02 I'm a Mess_16_4.wav\n",
      "Segment 5/9 saved: 02 I'm a Mess_16_5.wav\n",
      "Segment 6/9 saved: 02 I'm a Mess_16_6.wav\n",
      "Segment 7/9 saved: 02 I'm a Mess_16_7.wav\n",
      "Segment 8/9 saved: 02 I'm a Mess_16_8.wav\n",
      "Segment 9/9 saved: 02 I'm a Mess_16_9.wav\n",
      "Segment 1/1 saved: 02 I'm a Mess_3_1.wav\n",
      "Segment 1/1 saved: 02 I'm a Mess_15_1.wav\n",
      "Segment 1/1 saved: 02 I'm a Mess_9_1.wav\n",
      "Segment 1/2 saved: 02 I'm a Mess_4_1.wav\n",
      "Segment 2/2 saved: 02 I'm a Mess_4_2.wav\n",
      "Segment 1/1 saved: 02 I'm a Mess_11_1.wav\n",
      "Segment 1/3 saved: 02 I'm a Mess_12_1.wav\n",
      "Segment 2/3 saved: 02 I'm a Mess_12_2.wav\n",
      "Segment 3/3 saved: 02 I'm a Mess_12_3.wav\n",
      "Segment 1/1 saved: 02 I'm a Mess_10_1.wav\n",
      "Segment 1/1 saved: 02 I'm a Mess_14_1.wav\n",
      "Segment 1/2 saved: 02 I'm a Mess_5_1.wav\n",
      "Segment 2/2 saved: 02 I'm a Mess_5_2.wav\n",
      "Segment 1/1 saved: 02 I'm a Mess_0_1.wav\n",
      "Segment 1/1 saved: 02 I'm a Mess_8_1.wav\n",
      "Segment 1/1 saved: 02 I'm a Mess_13_1.wav\n",
      "Segment 1/1 saved: 02 I'm a Mess_2_1.wav\n",
      "========================================================================================================================\n",
      "FILE: /home/arvin/so-vits-svc-fork/dataset_source/edsheeran_x/05 Nina.mp3\n",
      "========================================================================================================================\n",
      "Going to separate the files:\n",
      "/home/arvin/so-vits-svc-fork/dataset_processed/05 Nina/05 Nina.mp3\n",
      "With command:  python3 -m demucs.separate -o /home/arvin/so-vits-svc-fork/dataset_processed/05 Nina/demucs -n htdemucs --mp3 --mp3-bitrate=320\n",
      "Selected model is a bag of 1 models. You will see that many progress bars per track.\n",
      "Separated tracks will be stored in /home/arvin/so-vits-svc-fork/dataset_processed/05 Nina/demucs/htdemucs\n",
      "Separating track /home/arvin/so-vits-svc-fork/dataset_processed/05 Nina/05 Nina.mp3\n"
     ]
    },
    {
     "name": "stderr",
     "output_type": "stream",
     "text": [
      "100%|██████████████████████████████████████████████| 228.14999999999998/228.14999999999998 [00:09<00:00, 24.72seconds/s]\n"
     ]
    },
    {
     "name": "stdout",
     "output_type": "stream",
     "text": [
      "executing 'slice' cost 13.701s\n",
      "Segment 1/2 saved: 05 Nina_7_1.wav\n",
      "Segment 2/2 saved: 05 Nina_7_2.wav\n",
      "Segment 1/4 saved: 05 Nina_6_1.wav\n",
      "Segment 2/4 saved: 05 Nina_6_2.wav\n",
      "Segment 3/4 saved: 05 Nina_6_3.wav\n",
      "Segment 4/4 saved: 05 Nina_6_4.wav\n",
      "Segment 1/3 saved: 05 Nina_5_1.wav\n",
      "Segment 2/3 saved: 05 Nina_5_2.wav\n",
      "Segment 3/3 saved: 05 Nina_5_3.wav\n",
      "Segment 1/2 saved: 05 Nina_0_1.wav\n",
      "Segment 2/2 saved: 05 Nina_0_2.wav\n",
      "Segment 1/5 saved: 05 Nina_1_1.wav\n",
      "Segment 2/5 saved: 05 Nina_1_2.wav\n",
      "Segment 3/5 saved: 05 Nina_1_3.wav\n",
      "Segment 4/5 saved: 05 Nina_1_4.wav\n",
      "Segment 5/5 saved: 05 Nina_1_5.wav\n",
      "Segment 1/1 saved: 05 Nina_2_1.wav\n",
      "Segment 1/6 saved: 05 Nina_3_1.wav\n",
      "Segment 2/6 saved: 05 Nina_3_2.wav\n",
      "Segment 3/6 saved: 05 Nina_3_3.wav\n",
      "Segment 4/6 saved: 05 Nina_3_4.wav\n",
      "Segment 5/6 saved: 05 Nina_3_5.wav\n",
      "Segment 6/6 saved: 05 Nina_3_6.wav\n",
      "Segment 1/1 saved: 05 Nina_4_1.wav\n",
      "========================================================================================================================\n",
      "FILE: /home/arvin/so-vits-svc-fork/dataset_source/edsheeran_x/04 Don't.mp3\n",
      "========================================================================================================================\n",
      "Going to separate the files:\n",
      "/home/arvin/so-vits-svc-fork/dataset_processed/04 Don't/04 Don't.mp3\n",
      "With command:  python3 -m demucs.separate -o /home/arvin/so-vits-svc-fork/dataset_processed/04 Don't/demucs -n htdemucs --mp3 --mp3-bitrate=320\n",
      "Selected model is a bag of 1 models. You will see that many progress bars per track.\n",
      "Separated tracks will be stored in /home/arvin/so-vits-svc-fork/dataset_processed/04 Don't/demucs/htdemucs\n",
      "Separating track /home/arvin/so-vits-svc-fork/dataset_processed/04 Don't/04 Don't.mp3\n"
     ]
    },
    {
     "name": "stderr",
     "output_type": "stream",
     "text": [
      "100%|██████████████████████████████████████████████| 222.29999999999998/222.29999999999998 [00:08<00:00, 24.71seconds/s]\n"
     ]
    },
    {
     "name": "stdout",
     "output_type": "stream",
     "text": [
      "executing 'slice' cost 13.266s\n",
      "Segment 1/1 saved: 04 Don't_0_1.wav\n",
      "Segment 1/21 saved: 04 Don't_1_1.wav\n",
      "Segment 2/21 saved: 04 Don't_1_2.wav\n",
      "Segment 3/21 saved: 04 Don't_1_3.wav\n",
      "Segment 4/21 saved: 04 Don't_1_4.wav\n",
      "Segment 5/21 saved: 04 Don't_1_5.wav\n",
      "Segment 6/21 saved: 04 Don't_1_6.wav\n",
      "Segment 7/21 saved: 04 Don't_1_7.wav\n",
      "Segment 8/21 saved: 04 Don't_1_8.wav\n",
      "Segment 9/21 saved: 04 Don't_1_9.wav\n",
      "Segment 10/21 saved: 04 Don't_1_10.wav\n",
      "Segment 11/21 saved: 04 Don't_1_11.wav\n",
      "Segment 12/21 saved: 04 Don't_1_12.wav\n",
      "Segment 13/21 saved: 04 Don't_1_13.wav\n",
      "Segment 14/21 saved: 04 Don't_1_14.wav\n",
      "Segment 15/21 saved: 04 Don't_1_15.wav\n",
      "Segment 16/21 saved: 04 Don't_1_16.wav\n",
      "Segment 17/21 saved: 04 Don't_1_17.wav\n",
      "Segment 18/21 saved: 04 Don't_1_18.wav\n",
      "Segment 19/21 saved: 04 Don't_1_19.wav\n",
      "Segment 20/21 saved: 04 Don't_1_20.wav\n",
      "Segment 21/21 saved: 04 Don't_1_21.wav\n",
      "========================================================================================================================\n",
      "FILE: /home/arvin/so-vits-svc-fork/dataset_source/edsheeran_x/07 Bloodstream.mp3\n",
      "========================================================================================================================\n",
      "Going to separate the files:\n",
      "/home/arvin/so-vits-svc-fork/dataset_processed/07 Bloodstream/07 Bloodstream.mp3\n",
      "With command:  python3 -m demucs.separate -o /home/arvin/so-vits-svc-fork/dataset_processed/07 Bloodstream/demucs -n htdemucs --mp3 --mp3-bitrate=320\n",
      "Selected model is a bag of 1 models. You will see that many progress bars per track.\n",
      "Separated tracks will be stored in /home/arvin/so-vits-svc-fork/dataset_processed/07 Bloodstream/demucs/htdemucs\n",
      "Separating track /home/arvin/so-vits-svc-fork/dataset_processed/07 Bloodstream/07 Bloodstream.mp3\n"
     ]
    },
    {
     "name": "stderr",
     "output_type": "stream",
     "text": [
      "100%|████████████████████████████████████████████████████████████████████████| 304.2/304.2 [00:12<00:00, 25.25seconds/s]\n"
     ]
    },
    {
     "name": "stdout",
     "output_type": "stream",
     "text": [
      "executing 'slice' cost 18.542s\n",
      "Segment 1/1 saved: 07 Bloodstream_1_1.wav\n",
      "Segment 1/1 saved: 07 Bloodstream_11_1.wav\n",
      "Segment 1/1 saved: 07 Bloodstream_15_1.wav\n",
      "Segment 1/1 saved: 07 Bloodstream_21_1.wav\n",
      "Segment 1/3 saved: 07 Bloodstream_12_1.wav\n",
      "Segment 2/3 saved: 07 Bloodstream_12_2.wav\n",
      "Segment 3/3 saved: 07 Bloodstream_12_3.wav\n",
      "Segment 1/1 saved: 07 Bloodstream_2_1.wav\n",
      "Segment 1/1 saved: 07 Bloodstream_10_1.wav\n",
      "Segment 1/1 saved: 07 Bloodstream_18_1.wav\n",
      "Segment 1/1 saved: 07 Bloodstream_0_1.wav\n",
      "Segment 1/1 saved: 07 Bloodstream_4_1.wav\n",
      "Segment 1/2 saved: 07 Bloodstream_5_1.wav\n",
      "Segment 2/2 saved: 07 Bloodstream_5_2.wav\n",
      "Segment 1/1 saved: 07 Bloodstream_17_1.wav\n",
      "Segment 1/1 saved: 07 Bloodstream_8_1.wav\n",
      "Segment 1/8 saved: 07 Bloodstream_19_1.wav\n",
      "Segment 2/8 saved: 07 Bloodstream_19_2.wav\n",
      "Segment 3/8 saved: 07 Bloodstream_19_3.wav\n",
      "Segment 4/8 saved: 07 Bloodstream_19_4.wav\n",
      "Segment 5/8 saved: 07 Bloodstream_19_5.wav\n",
      "Segment 6/8 saved: 07 Bloodstream_19_6.wav\n",
      "Segment 7/8 saved: 07 Bloodstream_19_7.wav\n",
      "Segment 8/8 saved: 07 Bloodstream_19_8.wav\n",
      "Segment 1/1 saved: 07 Bloodstream_16_1.wav\n",
      "Segment 1/1 saved: 07 Bloodstream_3_1.wav\n",
      "Segment 1/1 saved: 07 Bloodstream_14_1.wav\n",
      "Segment 1/1 saved: 07 Bloodstream_7_1.wav\n",
      "Segment 1/1 saved: 07 Bloodstream_20_1.wav\n",
      "Segment 1/2 saved: 07 Bloodstream_9_1.wav\n",
      "Segment 2/2 saved: 07 Bloodstream_9_2.wav\n",
      "Segment 1/1 saved: 07 Bloodstream_13_1.wav\n",
      "Segment 1/1 saved: 07 Bloodstream_6_1.wav\n",
      "========================================================================================================================\n",
      "FILE: /home/arvin/so-vits-svc-fork/dataset_source/edsheeran_x/10 The Man.mp3\n",
      "========================================================================================================================\n",
      "Going to separate the files:\n",
      "/home/arvin/so-vits-svc-fork/dataset_processed/10 The Man/10 The Man.mp3\n",
      "With command:  python3 -m demucs.separate -o /home/arvin/so-vits-svc-fork/dataset_processed/10 The Man/demucs -n htdemucs --mp3 --mp3-bitrate=320\n",
      "Selected model is a bag of 1 models. You will see that many progress bars per track.\n",
      "Separated tracks will be stored in /home/arvin/so-vits-svc-fork/dataset_processed/10 The Man/demucs/htdemucs\n",
      "Separating track /home/arvin/so-vits-svc-fork/dataset_processed/10 The Man/10 The Man.mp3\n"
     ]
    },
    {
     "name": "stderr",
     "output_type": "stream",
     "text": [
      "100%|██████████████████████████████████████████████| 251.54999999999998/251.54999999999998 [00:10<00:00, 25.00seconds/s]\n"
     ]
    },
    {
     "name": "stdout",
     "output_type": "stream",
     "text": [
      "executing 'slice' cost 15.502s\n",
      "Segment 1/1 saved: 10 The Man_7_1.wav\n",
      "Segment 1/1 saved: 10 The Man_4_1.wav\n",
      "Segment 1/1 saved: 10 The Man_13_1.wav\n",
      "Segment 1/1 saved: 10 The Man_14_1.wav\n",
      "Segment 1/1 saved: 10 The Man_10_1.wav\n",
      "Segment 1/1 saved: 10 The Man_11_1.wav\n",
      "Segment 1/1 saved: 10 The Man_3_1.wav\n",
      "Segment 1/1 saved: 10 The Man_8_1.wav\n",
      "Segment 1/1 saved: 10 The Man_6_1.wav\n",
      "Segment 1/1 saved: 10 The Man_2_1.wav\n",
      "Segment 1/5 saved: 10 The Man_5_1.wav\n",
      "Segment 2/5 saved: 10 The Man_5_2.wav\n",
      "Segment 3/5 saved: 10 The Man_5_3.wav\n",
      "Segment 4/5 saved: 10 The Man_5_4.wav\n",
      "Segment 5/5 saved: 10 The Man_5_5.wav\n",
      "Segment 1/3 saved: 10 The Man_0_1.wav\n",
      "Segment 2/3 saved: 10 The Man_0_2.wav\n",
      "Segment 3/3 saved: 10 The Man_0_3.wav\n",
      "Segment 1/3 saved: 10 The Man_1_1.wav\n",
      "Segment 2/3 saved: 10 The Man_1_2.wav\n",
      "Segment 3/3 saved: 10 The Man_1_3.wav\n",
      "Segment 1/5 saved: 10 The Man_9_1.wav\n",
      "Segment 2/5 saved: 10 The Man_9_2.wav\n",
      "Segment 3/5 saved: 10 The Man_9_3.wav\n",
      "Segment 4/5 saved: 10 The Man_9_4.wav\n",
      "Segment 5/5 saved: 10 The Man_9_5.wav\n",
      "Segment 1/1 saved: 10 The Man_12_1.wav\n",
      "========================================================================================================================\n",
      "FILE: /home/arvin/so-vits-svc-fork/dataset_source/edsheeran_x/09 Runaway.mp3\n",
      "========================================================================================================================\n",
      "Going to separate the files:\n",
      "/home/arvin/so-vits-svc-fork/dataset_processed/09 Runaway/09 Runaway.mp3\n",
      "With command:  python3 -m demucs.separate -o /home/arvin/so-vits-svc-fork/dataset_processed/09 Runaway/demucs -n htdemucs --mp3 --mp3-bitrate=320\n",
      "Selected model is a bag of 1 models. You will see that many progress bars per track.\n",
      "Separated tracks will be stored in /home/arvin/so-vits-svc-fork/dataset_processed/09 Runaway/demucs/htdemucs\n",
      "Separating track /home/arvin/so-vits-svc-fork/dataset_processed/09 Runaway/09 Runaway.mp3\n"
     ]
    },
    {
     "name": "stderr",
     "output_type": "stream",
     "text": [
      "100%|████████████████████████████████████████████████████████████████████████| 210.6/210.6 [00:08<00:00, 24.70seconds/s]\n"
     ]
    },
    {
     "name": "stdout",
     "output_type": "stream",
     "text": [
      "executing 'slice' cost 12.732s\n",
      "Segment 1/2 saved: 09 Runaway_7_1.wav\n",
      "Segment 2/2 saved: 09 Runaway_7_2.wav\n",
      "Segment 1/3 saved: 09 Runaway_13_1.wav\n",
      "Segment 2/3 saved: 09 Runaway_13_2.wav\n",
      "Segment 3/3 saved: 09 Runaway_13_3.wav\n",
      "Segment 1/1 saved: 09 Runaway_0_1.wav\n",
      "Segment 1/4 saved: 09 Runaway_4_1.wav\n",
      "Segment 2/4 saved: 09 Runaway_4_2.wav\n",
      "Segment 3/4 saved: 09 Runaway_4_3.wav\n",
      "Segment 4/4 saved: 09 Runaway_4_4.wav\n",
      "Segment 1/1 saved: 09 Runaway_1_1.wav\n",
      "Segment 1/2 saved: 09 Runaway_3_1.wav\n",
      "Segment 2/2 saved: 09 Runaway_3_2.wav\n",
      "Segment 1/1 saved: 09 Runaway_12_1.wav\n",
      "Segment 1/1 saved: 09 Runaway_2_1.wav\n",
      "Segment 1/1 saved: 09 Runaway_9_1.wav\n",
      "Segment 1/1 saved: 09 Runaway_14_1.wav\n",
      "Segment 1/1 saved: 09 Runaway_5_1.wav\n",
      "Segment 1/1 saved: 09 Runaway_10_1.wav\n",
      "Segment 1/1 saved: 09 Runaway_6_1.wav\n",
      "Segment 1/3 saved: 09 Runaway_8_1.wav\n",
      "Segment 2/3 saved: 09 Runaway_8_2.wav\n",
      "Segment 3/3 saved: 09 Runaway_8_3.wav\n",
      "Segment 1/2 saved: 09 Runaway_11_1.wav\n",
      "Segment 2/2 saved: 09 Runaway_11_2.wav\n",
      "Segment 1/1 saved: 09 Runaway_15_1.wav\n",
      "========================================================================================================================\n",
      "FILE: /home/arvin/so-vits-svc-fork/dataset_source/edsheeran_x/01 One.mp3\n",
      "========================================================================================================================\n",
      "Going to separate the files:\n",
      "/home/arvin/so-vits-svc-fork/dataset_processed/01 One/01 One.mp3\n",
      "With command:  python3 -m demucs.separate -o /home/arvin/so-vits-svc-fork/dataset_processed/01 One/demucs -n htdemucs --mp3 --mp3-bitrate=320\n",
      "Selected model is a bag of 1 models. You will see that many progress bars per track.\n",
      "Separated tracks will be stored in /home/arvin/so-vits-svc-fork/dataset_processed/01 One/demucs/htdemucs\n",
      "Separating track /home/arvin/so-vits-svc-fork/dataset_processed/01 One/01 One.mp3\n"
     ]
    },
    {
     "name": "stderr",
     "output_type": "stream",
     "text": [
      "100%|████████████████████████████████████████████████████████████████████████| 257.4/257.4 [00:10<00:00, 25.15seconds/s]\n"
     ]
    },
    {
     "name": "stdout",
     "output_type": "stream",
     "text": [
      "executing 'slice' cost 15.452s\n",
      "Segment 1/5 saved: 01 One_7_1.wav\n",
      "Segment 2/5 saved: 01 One_7_2.wav\n",
      "Segment 3/5 saved: 01 One_7_3.wav\n",
      "Segment 4/5 saved: 01 One_7_4.wav\n",
      "Segment 5/5 saved: 01 One_7_5.wav\n",
      "Segment 1/1 saved: 01 One_0_1.wav\n",
      "Segment 1/4 saved: 01 One_6_1.wav\n",
      "Segment 2/4 saved: 01 One_6_2.wav\n",
      "Segment 3/4 saved: 01 One_6_3.wav\n",
      "Segment 4/4 saved: 01 One_6_4.wav\n",
      "Segment 1/6 saved: 01 One_5_1.wav\n",
      "Segment 2/6 saved: 01 One_5_2.wav\n",
      "Segment 3/6 saved: 01 One_5_3.wav\n",
      "Segment 4/6 saved: 01 One_5_4.wav\n",
      "Segment 5/6 saved: 01 One_5_5.wav\n",
      "Segment 6/6 saved: 01 One_5_6.wav\n",
      "Segment 1/1 saved: 01 One_4_1.wav\n",
      "Segment 1/1 saved: 01 One_3_1.wav\n",
      "Segment 1/1 saved: 01 One_1_1.wav\n",
      "Segment 1/6 saved: 01 One_2_1.wav\n",
      "Segment 2/6 saved: 01 One_2_2.wav\n",
      "Segment 3/6 saved: 01 One_2_3.wav\n",
      "Segment 4/6 saved: 01 One_2_4.wav\n",
      "Segment 5/6 saved: 01 One_2_5.wav\n",
      "Segment 6/6 saved: 01 One_2_6.wav\n",
      "========================================================================================================================\n",
      "FILE: /home/arvin/so-vits-svc-fork/dataset_source/edsheeran_x/03 Sing.mp3\n",
      "========================================================================================================================\n",
      "Going to separate the files:\n",
      "/home/arvin/so-vits-svc-fork/dataset_processed/03 Sing/03 Sing.mp3\n",
      "With command:  python3 -m demucs.separate -o /home/arvin/so-vits-svc-fork/dataset_processed/03 Sing/demucs -n htdemucs --mp3 --mp3-bitrate=320\n",
      "Selected model is a bag of 1 models. You will see that many progress bars per track.\n",
      "Separated tracks will be stored in /home/arvin/so-vits-svc-fork/dataset_processed/03 Sing/demucs/htdemucs\n",
      "Separating track /home/arvin/so-vits-svc-fork/dataset_processed/03 Sing/03 Sing.mp3\n"
     ]
    },
    {
     "name": "stderr",
     "output_type": "stream",
     "text": [
      "100%|██████████████████████████████████████████████████████████████████████| 239.85/239.85 [00:09<00:00, 24.91seconds/s]\n"
     ]
    },
    {
     "name": "stdout",
     "output_type": "stream",
     "text": [
      "executing 'slice' cost 14.465s\n",
      "Segment 1/6 saved: 03 Sing_6_1.wav\n",
      "Segment 2/6 saved: 03 Sing_6_2.wav\n",
      "Segment 3/6 saved: 03 Sing_6_3.wav\n",
      "Segment 4/6 saved: 03 Sing_6_4.wav\n",
      "Segment 5/6 saved: 03 Sing_6_5.wav\n",
      "Segment 6/6 saved: 03 Sing_6_6.wav\n",
      "Segment 1/1 saved: 03 Sing_10_1.wav\n",
      "Segment 1/1 saved: 03 Sing_0_1.wav\n",
      "Segment 1/2 saved: 03 Sing_4_1.wav\n",
      "Segment 2/2 saved: 03 Sing_4_2.wav\n",
      "Segment 1/2 saved: 03 Sing_7_1.wav\n",
      "Segment 2/2 saved: 03 Sing_7_2.wav\n",
      "Segment 1/3 saved: 03 Sing_3_1.wav\n",
      "Segment 2/3 saved: 03 Sing_3_2.wav\n",
      "Segment 3/3 saved: 03 Sing_3_3.wav\n",
      "Segment 1/5 saved: 03 Sing_11_1.wav\n",
      "Segment 2/5 saved: 03 Sing_11_2.wav\n",
      "Segment 3/5 saved: 03 Sing_11_3.wav\n",
      "Segment 4/5 saved: 03 Sing_11_4.wav\n",
      "Segment 5/5 saved: 03 Sing_11_5.wav\n",
      "Segment 1/1 saved: 03 Sing_1_1.wav\n",
      "Segment 1/1 saved: 03 Sing_5_1.wav\n",
      "Segment 1/1 saved: 03 Sing_12_1.wav\n",
      "Segment 1/3 saved: 03 Sing_9_1.wav\n",
      "Segment 2/3 saved: 03 Sing_9_2.wav\n",
      "Segment 3/3 saved: 03 Sing_9_3.wav\n",
      "Segment 1/1 saved: 03 Sing_2_1.wav\n",
      "Segment 1/1 saved: 03 Sing_8_1.wav\n",
      "========================================================================================================================\n",
      "FILE: /home/arvin/so-vits-svc-fork/dataset_source/edsheeran_x/13 Take It Back.mp3\n",
      "========================================================================================================================\n",
      "Going to separate the files:\n",
      "/home/arvin/so-vits-svc-fork/dataset_processed/13 Take It Back/13 Take It Back.mp3\n",
      "With command:  python3 -m demucs.separate -o /home/arvin/so-vits-svc-fork/dataset_processed/13 Take It Back/demucs -n htdemucs --mp3 --mp3-bitrate=320\n",
      "Selected model is a bag of 1 models. You will see that many progress bars per track.\n",
      "Separated tracks will be stored in /home/arvin/so-vits-svc-fork/dataset_processed/13 Take It Back/demucs/htdemucs\n",
      "Separating track /home/arvin/so-vits-svc-fork/dataset_processed/13 Take It Back/13 Take It Back.mp3\n"
     ]
    },
    {
     "name": "stderr",
     "output_type": "stream",
     "text": [
      "100%|████████████████████████████████████████████████████████████████████████| 210.6/210.6 [00:08<00:00, 24.54seconds/s]\n"
     ]
    },
    {
     "name": "stdout",
     "output_type": "stream",
     "text": [
      "executing 'slice' cost 12.655s\n",
      "Segment 1/1 saved: 13 Take It Back_7_1.wav\n",
      "Segment 1/5 saved: 13 Take It Back_2_1.wav\n",
      "Segment 2/5 saved: 13 Take It Back_2_2.wav\n",
      "Segment 3/5 saved: 13 Take It Back_2_3.wav\n",
      "Segment 4/5 saved: 13 Take It Back_2_4.wav\n",
      "Segment 5/5 saved: 13 Take It Back_2_5.wav\n",
      "Segment 1/1 saved: 13 Take It Back_6_1.wav\n",
      "Segment 1/1 saved: 13 Take It Back_5_1.wav\n",
      "Segment 1/1 saved: 13 Take It Back_3_1.wav\n",
      "Segment 1/5 saved: 13 Take It Back_0_1.wav\n",
      "Segment 2/5 saved: 13 Take It Back_0_2.wav\n",
      "Segment 3/5 saved: 13 Take It Back_0_3.wav\n",
      "Segment 4/5 saved: 13 Take It Back_0_4.wav\n",
      "Segment 5/5 saved: 13 Take It Back_0_5.wav\n",
      "Segment 1/1 saved: 13 Take It Back_8_1.wav\n",
      "Segment 1/6 saved: 13 Take It Back_4_1.wav\n",
      "Segment 2/6 saved: 13 Take It Back_4_2.wav\n",
      "Segment 3/6 saved: 13 Take It Back_4_3.wav\n",
      "Segment 4/6 saved: 13 Take It Back_4_4.wav\n",
      "Segment 5/6 saved: 13 Take It Back_4_5.wav\n",
      "Segment 6/6 saved: 13 Take It Back_4_6.wav\n",
      "Segment 1/1 saved: 13 Take It Back_1_1.wav\n",
      "========================================================================================================================\n",
      "FILE: /home/arvin/so-vits-svc-fork/dataset_source/edsheeran_x/06 Photograph.mp3\n",
      "========================================================================================================================\n",
      "Going to separate the files:\n",
      "/home/arvin/so-vits-svc-fork/dataset_processed/06 Photograph/06 Photograph.mp3\n",
      "With command:  python3 -m demucs.separate -o /home/arvin/so-vits-svc-fork/dataset_processed/06 Photograph/demucs -n htdemucs --mp3 --mp3-bitrate=320\n",
      "Selected model is a bag of 1 models. You will see that many progress bars per track.\n",
      "Separated tracks will be stored in /home/arvin/so-vits-svc-fork/dataset_processed/06 Photograph/demucs/htdemucs\n",
      "Separating track /home/arvin/so-vits-svc-fork/dataset_processed/06 Photograph/06 Photograph.mp3\n"
     ]
    },
    {
     "name": "stderr",
     "output_type": "stream",
     "text": [
      "100%|██████████████████████████████████████████████████████████████████████| 263.25/263.25 [00:10<00:00, 25.05seconds/s]\n"
     ]
    },
    {
     "name": "stdout",
     "output_type": "stream",
     "text": [
      "executing 'slice' cost 15.868s\n",
      "Segment 1/2 saved: 06 Photograph_3_1.wav\n",
      "Segment 2/2 saved: 06 Photograph_3_2.wav\n",
      "Segment 1/2 saved: 06 Photograph_2_1.wav\n",
      "Segment 2/2 saved: 06 Photograph_2_2.wav\n",
      "Segment 1/1 saved: 06 Photograph_19_1.wav\n",
      "Segment 1/1 saved: 06 Photograph_8_1.wav\n",
      "Segment 1/5 saved: 06 Photograph_17_1.wav\n",
      "Segment 2/5 saved: 06 Photograph_17_2.wav\n",
      "Segment 3/5 saved: 06 Photograph_17_3.wav\n",
      "Segment 4/5 saved: 06 Photograph_17_4.wav\n",
      "Segment 5/5 saved: 06 Photograph_17_5.wav\n",
      "Segment 1/2 saved: 06 Photograph_18_1.wav\n",
      "Segment 2/2 saved: 06 Photograph_18_2.wav\n",
      "Segment 1/1 saved: 06 Photograph_6_1.wav\n",
      "Segment 1/2 saved: 06 Photograph_7_1.wav\n",
      "Segment 2/2 saved: 06 Photograph_7_2.wav\n",
      "Segment 1/1 saved: 06 Photograph_10_1.wav\n",
      "Segment 1/1 saved: 06 Photograph_12_1.wav\n",
      "Segment 1/1 saved: 06 Photograph_0_1.wav\n",
      "Segment 1/2 saved: 06 Photograph_11_1.wav\n",
      "Segment 2/2 saved: 06 Photograph_11_2.wav\n",
      "Segment 1/1 saved: 06 Photograph_9_1.wav\n",
      "Segment 1/1 saved: 06 Photograph_13_1.wav\n",
      "Segment 1/1 saved: 06 Photograph_5_1.wav\n",
      "Segment 1/1 saved: 06 Photograph_14_1.wav\n",
      "Segment 1/1 saved: 06 Photograph_4_1.wav\n",
      "Segment 1/1 saved: 06 Photograph_15_1.wav\n",
      "Segment 1/1 saved: 06 Photograph_16_1.wav\n",
      "Segment 1/2 saved: 06 Photograph_1_1.wav\n",
      "Segment 2/2 saved: 06 Photograph_1_2.wav\n",
      "========================================================================================================================\n",
      "FILE: /home/arvin/so-vits-svc-fork/dataset_source/edsheeran_x/08 Tenerife Sea.mp3\n",
      "========================================================================================================================\n",
      "Going to separate the files:\n",
      "/home/arvin/so-vits-svc-fork/dataset_processed/08 Tenerife Sea/08 Tenerife Sea.mp3\n",
      "With command:  python3 -m demucs.separate -o /home/arvin/so-vits-svc-fork/dataset_processed/08 Tenerife Sea/demucs -n htdemucs --mp3 --mp3-bitrate=320\n",
      "Selected model is a bag of 1 models. You will see that many progress bars per track.\n",
      "Separated tracks will be stored in /home/arvin/so-vits-svc-fork/dataset_processed/08 Tenerife Sea/demucs/htdemucs\n",
      "Separating track /home/arvin/so-vits-svc-fork/dataset_processed/08 Tenerife Sea/08 Tenerife Sea.mp3\n"
     ]
    },
    {
     "name": "stderr",
     "output_type": "stream",
     "text": [
      "100%|████████████████████████████████████████████████████████████████████████| 245.7/245.7 [00:09<00:00, 24.98seconds/s]\n"
     ]
    },
    {
     "name": "stdout",
     "output_type": "stream",
     "text": [
      "executing 'slice' cost 14.762s\n",
      "Segment 1/1 saved: 08 Tenerife Sea_7_1.wav\n",
      "Segment 1/1 saved: 08 Tenerife Sea_21_1.wav\n",
      "Segment 1/1 saved: 08 Tenerife Sea_0_1.wav\n",
      "Segment 1/1 saved: 08 Tenerife Sea_27_1.wav\n",
      "Segment 1/1 saved: 08 Tenerife Sea_18_1.wav\n",
      "Segment 1/1 saved: 08 Tenerife Sea_12_1.wav\n",
      "Segment 1/1 saved: 08 Tenerife Sea_6_1.wav\n",
      "Segment 1/1 saved: 08 Tenerife Sea_17_1.wav\n",
      "Segment 1/1 saved: 08 Tenerife Sea_8_1.wav\n",
      "Segment 1/1 saved: 08 Tenerife Sea_2_1.wav\n",
      "Segment 1/1 saved: 08 Tenerife Sea_24_1.wav\n",
      "Segment 1/1 saved: 08 Tenerife Sea_3_1.wav\n",
      "Segment 1/1 saved: 08 Tenerife Sea_26_1.wav\n",
      "Segment 1/1 saved: 08 Tenerife Sea_13_1.wav\n",
      "Segment 1/1 saved: 08 Tenerife Sea_23_1.wav\n",
      "Segment 1/1 saved: 08 Tenerife Sea_9_1.wav\n",
      "Segment 1/1 saved: 08 Tenerife Sea_5_1.wav\n",
      "Segment 1/1 saved: 08 Tenerife Sea_14_1.wav\n",
      "Segment 1/1 saved: 08 Tenerife Sea_11_1.wav\n",
      "Segment 1/1 saved: 08 Tenerife Sea_20_1.wav\n",
      "Segment 1/1 saved: 08 Tenerife Sea_1_1.wav\n",
      "Segment 1/1 saved: 08 Tenerife Sea_25_1.wav\n",
      "Segment 1/1 saved: 08 Tenerife Sea_4_1.wav\n",
      "Segment 1/1 saved: 08 Tenerife Sea_15_1.wav\n",
      "Segment 1/1 saved: 08 Tenerife Sea_16_1.wav\n",
      "Segment 1/1 saved: 08 Tenerife Sea_22_1.wav\n",
      "Segment 1/1 saved: 08 Tenerife Sea_10_1.wav\n",
      "Segment 1/1 saved: 08 Tenerife Sea_19_1.wav\n",
      "========================================================================================================================\n",
      "FILE: /home/arvin/so-vits-svc-fork/dataset_source/edsheeran_x/14 Shirtsleeves.mp3\n",
      "========================================================================================================================\n",
      "Going to separate the files:\n",
      "/home/arvin/so-vits-svc-fork/dataset_processed/14 Shirtsleeves/14 Shirtsleeves.mp3\n",
      "With command:  python3 -m demucs.separate -o /home/arvin/so-vits-svc-fork/dataset_processed/14 Shirtsleeves/demucs -n htdemucs --mp3 --mp3-bitrate=320\n",
      "Selected model is a bag of 1 models. You will see that many progress bars per track.\n",
      "Separated tracks will be stored in /home/arvin/so-vits-svc-fork/dataset_processed/14 Shirtsleeves/demucs/htdemucs\n",
      "Separating track /home/arvin/so-vits-svc-fork/dataset_processed/14 Shirtsleeves/14 Shirtsleeves.mp3\n"
     ]
    },
    {
     "name": "stderr",
     "output_type": "stream",
     "text": [
      "100%|██████████████████████████████████████████████| 193.04999999999998/193.04999999999998 [00:07<00:00, 24.49seconds/s]\n"
     ]
    },
    {
     "name": "stdout",
     "output_type": "stream",
     "text": [
      "executing 'slice' cost 11.503s\n",
      "Segment 1/4 saved: 14 Shirtsleeves_8_1.wav\n",
      "Segment 2/4 saved: 14 Shirtsleeves_8_2.wav\n",
      "Segment 3/4 saved: 14 Shirtsleeves_8_3.wav\n",
      "Segment 4/4 saved: 14 Shirtsleeves_8_4.wav\n",
      "Segment 1/1 saved: 14 Shirtsleeves_9_1.wav\n",
      "Segment 1/3 saved: 14 Shirtsleeves_4_1.wav\n",
      "Segment 2/3 saved: 14 Shirtsleeves_4_2.wav\n",
      "Segment 3/3 saved: 14 Shirtsleeves_4_3.wav\n",
      "Segment 1/1 saved: 14 Shirtsleeves_5_1.wav\n",
      "Segment 1/1 saved: 14 Shirtsleeves_0_1.wav\n",
      "Segment 1/3 saved: 14 Shirtsleeves_10_1.wav\n",
      "Segment 2/3 saved: 14 Shirtsleeves_10_2.wav\n",
      "Segment 3/3 saved: 14 Shirtsleeves_10_3.wav\n",
      "Segment 1/1 saved: 14 Shirtsleeves_6_1.wav\n",
      "Segment 1/1 saved: 14 Shirtsleeves_2_1.wav\n",
      "Segment 1/1 saved: 14 Shirtsleeves_1_1.wav\n",
      "Segment 1/2 saved: 14 Shirtsleeves_7_1.wav\n",
      "Segment 2/2 saved: 14 Shirtsleeves_7_2.wav\n",
      "Segment 1/1 saved: 14 Shirtsleeves_3_1.wav\n"
     ]
    }
   ],
   "source": [
    "# audiofile = '../dataset_raw/ssk/speaking/ssk_podcast_20230825.mp3'\n",
    "# audiofile = '../dataset_raw/ssk/singing/성시경_넌_감동이었어.mp3'\n",
    "# audiofile = '../dataset_raw/ssk/singing/성시경_너의_모든_순간.mp3'\n",
    "# audiofile = '../dataset_raw/ssk/singing/성시경_제주도의_푸른_밤.mp3'\n",
    "\n",
    "#SSK\n",
    "# files = ['../dataset_raw/ssk/singing/성시경_두_사람.mp3',\n",
    "#         '../dataset_raw/ssk/singing/성시경_사랑하는일.mp3',\n",
    "#         '../dataset_raw/ssk/singing/성시경_세_사람.mp3',\n",
    "#         '../dataset_raw/ssk/singing/성시경_안녕_나의_사랑.mp3',\n",
    "#         '../dataset_raw/ssk/singing/성시경_희재.mp3']\n",
    "\n",
    "# EDSHEERAN\n",
    "# !audioconvert convert /home/arvin/so-vits-svc-fork/dataset_source/edsheeran_x/ /home/arvin/so-vits-svc-fork/dataset_source/edsheeran_x/ --output-format .mp3\n",
    "\n",
    "# files = ['/home/arvin/so-vits-svc-fork/dataset_source/edsheeran_x/06 Photograph.mp3']\n",
    "\n",
    "# audiofile = '/home/arvin/so-vits-svc-fork/dataset_source/edsheeran_x/06 Photograph.mp3'\n",
    "# preprocess(audiofile)\n",
    "import glob\n",
    "files = glob.glob('/home/arvin/so-vits-svc-fork/dataset_source/edsheeran_x/*.mp3')\n",
    "for audiofile in files:\n",
    "    print('='*120)\n",
    "    print('FILE:', audiofile)\n",
    "    print('='*120)    \n",
    "    preprocess(audiofile)\n"
   ]
  },
  {
   "cell_type": "code",
   "execution_count": null,
   "metadata": {},
   "outputs": [],
   "source": []
  },
  {
   "attachments": {},
   "cell_type": "markdown",
   "metadata": {},
   "source": [
    "## Training"
   ]
  },
  {
   "cell_type": "code",
   "execution_count": 4,
   "metadata": {},
   "outputs": [],
   "source": [
    "#@title Make dataset directory\n",
    "!mkdir -p \"../dataset_raw\""
   ]
  },
  {
   "cell_type": "code",
   "execution_count": null,
   "metadata": {},
   "outputs": [],
   "source": [
    "# !rm -r \"dataset_raw\"\n",
    "# !rm -r \"dataset/44k\""
   ]
  },
  {
   "cell_type": "code",
   "execution_count": 9,
   "metadata": {},
   "outputs": [],
   "source": [
    "# Copy files\n",
    "train_files = glob.glob('/home/arvin/so-vits-svc-fork/dataset_processed/*/chunks_clean_10/*.wav')\n",
    "for file in train_files:\n",
    "    shutil.copy(file, '/home/arvin/so-vits-svc-fork/dataset_raw/edsheeran/')"
   ]
  },
  {
   "cell_type": "code",
   "execution_count": null,
   "metadata": {},
   "outputs": [],
   "source": [
    "#@title Copy your dataset\n",
    "#@markdown **We assume that your dataset is in your Google Drive's `so-vits-svc-fork/dataset/(speaker_name)` directory.**\n",
    "# DATASET_NAME = \"edsheeran\" #@param {type: \"string\"}\n",
    "# !cp -R /{DATASET_NAME}/' -t \"dataset_raw/\""
   ]
  },
  {
   "cell_type": "code",
   "execution_count": null,
   "metadata": {},
   "outputs": [],
   "source": [
    "#@title Download dataset (Tsukuyomi-chan JVS)\n",
    "#@markdown You can download this dataset if you don't have your own dataset.\n",
    "#@markdown Make sure you agree to the license when using this dataset.\n",
    "#@markdown https://tyc.rei-yumesaki.net/material/corpus/#toc6\n",
    "# !wget https://tyc.rei-yumesaki.net/files/sozai-tyc-corpus1.zip\n",
    "# !unzip sozai-tyc-corpus1.zip\n",
    "# !mv \"/content/つくよみちゃんコーパス Vol.1 声優統計コーパス（JVSコーパス準拠）/おまけ：WAV（+12dB増幅＆高音域削減）/WAV（+12dB増幅＆高音域削減）\" \"dataset_raw/tsukuyomi\""
   ]
  },
  {
   "cell_type": "code",
   "execution_count": null,
   "metadata": {},
   "outputs": [],
   "source": [
    "#@title Automatic preprocessing\n",
    "!svc pre-resample"
   ]
  },
  {
   "cell_type": "code",
   "execution_count": null,
   "metadata": {},
   "outputs": [],
   "source": [
    "!svc pre-config"
   ]
  },
  {
   "cell_type": "code",
   "execution_count": null,
   "metadata": {},
   "outputs": [],
   "source": [
    "#@title Copy configs file\n",
    "# !cp configs/44k/config.json drive/MyDrive/so-vits-svc-fork"
   ]
  },
  {
   "cell_type": "code",
   "execution_count": null,
   "metadata": {},
   "outputs": [],
   "source": [
    "F0_METHOD = \"crepe\" #@param [\"crepe\", \"crepe-tiny\", \"parselmouth\", \"dio\", \"harvest\"]\n",
    "!svc pre-hubert -fm {F0_METHOD}"
   ]
  },
  {
   "cell_type": "code",
   "execution_count": null,
   "metadata": {},
   "outputs": [],
   "source": [
    "#@title Train\n",
    "%load_ext tensorboard\n",
    "%tensorboard --logdir drive/MyDrive/so-vits-svc-fork/logs/44k\n",
    "!svc train --model-path drive/MyDrive/so-vits-svc-fork/logs/44k"
   ]
  },
  {
   "attachments": {},
   "cell_type": "markdown",
   "metadata": {},
   "source": [
    "## Training Cluster model"
   ]
  },
  {
   "cell_type": "code",
   "execution_count": null,
   "metadata": {},
   "outputs": [],
   "source": [
    "!svc train-cluster --output-path drive/MyDrive/so-vits-svc-fork/logs/44k/kmeans.pt"
   ]
  },
  {
   "attachments": {},
   "cell_type": "markdown",
   "metadata": {},
   "source": [
    "## Inference"
   ]
  },
  {
   "cell_type": "code",
   "execution_count": null,
   "metadata": {},
   "outputs": [],
   "source": [
    "#@title Get the author's voice as a source\n",
    "import random\n",
    "NAME = str(random.randint(1, 49))\n",
    "TYPE = \"fsd50k\" #@param [\"\", \"digit\", \"dog\", \"fsd50k\"]\n",
    "CUSTOM_FILEPATH = \"\" #@param {type: \"string\"}\n",
    "if CUSTOM_FILEPATH != \"\":\n",
    "    NAME = CUSTOM_FILEPATH\n",
    "else:\n",
    "    # it is extremely difficult to find a voice that can download from the internet directly\n",
    "    if TYPE == \"dog\":\n",
    "        !wget -N f\"https://huggingface.co/datasets/437aewuh/dog-dataset/resolve/main/dogs/dogs_{NAME:.0000}.wav\" -O {NAME}.wav\n",
    "    elif TYPE == \"digit\":\n",
    "        # george, jackson, lucas, nicolas, ...\n",
    "        !wget -N f\"https://github.com/Jakobovski/free-spoken-digit-dataset/raw/master/recordings/0_george_{NAME}.wav\" -O {NAME}.wav\n",
    "    elif TYPE == \"fsd50k\":\n",
    "        !wget -N f\"https://huggingface.co/datasets/Fhrozen/FSD50k/blob/main/clips/dev/{10000+int(NAME)}.wav\" -O {NAME}.wav\n",
    "    else:\n",
    "        !wget -N f\"https://zunko.jp/sozai/utau/voice_{\"kiritan\" if NAME < 25 else \"itako\"}{NAME % 5 + 1}.wav\" -O {NAME}.wav\n",
    "from IPython.display import Audio, display\n",
    "display(Audio(f\"{NAME}.wav\"))"
   ]
  },
  {
   "cell_type": "code",
   "execution_count": null,
   "metadata": {},
   "outputs": [],
   "source": [
    "#@title Use trained model\n",
    "#@markdown **Put your .wav file in `so-vits-svc-fork/audio` directory**\n",
    "from IPython.display import Audio, display\n",
    "!svc infer drive/MyDrive/so-vits-svc-fork/audio/{NAME}.wav -m drive/MyDrive/so-vits-svc-fork/logs/44k/ -c drive/MyDrive/so-vits-svc-fork/logs/44k/config.json\n",
    "display(Audio(f\"drive/MyDrive/so-vits-svc-fork/audio/{NAME}.out.wav\", autoplay=True))"
   ]
  },
  {
   "cell_type": "code",
   "execution_count": null,
   "metadata": {},
   "outputs": [],
   "source": [
    "##@title Use trained model (with cluster)\n",
    "!svc infer {NAME}.wav -s speaker -r 0.1 -m drive/MyDrive/so-vits-svc-fork/logs/44k/ -c drive/MyDrive/so-vits-svc-fork/logs/44k/config.json -k drive/MyDrive/so-vits-svc-fork/logs/44k/kmeans.pt\n",
    "display(Audio(f\"{NAME}.out.wav\", autoplay=True))"
   ]
  },
  {
   "attachments": {},
   "cell_type": "markdown",
   "metadata": {},
   "source": [
    "### Pretrained models"
   ]
  },
  {
   "cell_type": "code",
   "execution_count": null,
   "metadata": {},
   "outputs": [],
   "source": [
    "#@title https://huggingface.co/TachibanaKimika/so-vits-svc-4.0-models/tree/main\n",
    "!wget -N \"https://huggingface.co/TachibanaKimika/so-vits-svc-4.0-models/resolve/main/riri/G_riri_220.pth\"\n",
    "!wget -N \"https://huggingface.co/TachibanaKimika/so-vits-svc-4.0-models/resolve/main/riri/config.json\""
   ]
  },
  {
   "cell_type": "code",
   "execution_count": null,
   "metadata": {},
   "outputs": [],
   "source": [
    "!svc infer {NAME}.wav -c config.json -m G_riri_220.pth\n",
    "display(Audio(f\"{NAME}.out.wav\", autoplay=True))"
   ]
  },
  {
   "cell_type": "code",
   "execution_count": null,
   "metadata": {},
   "outputs": [],
   "source": [
    "#@title https://huggingface.co/therealvul/so-vits-svc-4.0/tree/main\n",
    "!wget -N \"https://huggingface.co/therealvul/so-vits-svc-4.0/resolve/main/Pinkie%20(speaking%20sep)/G_166400.pth\"\n",
    "!wget -N \"https://huggingface.co/therealvul/so-vits-svc-4.0/resolve/main/Pinkie%20(speaking%20sep)/config.json\""
   ]
  },
  {
   "cell_type": "code",
   "execution_count": null,
   "metadata": {},
   "outputs": [],
   "source": [
    "!svc infer {NAME}.wav --speaker \"Pinkie {neutral}\" -c config.json -m G_166400.pth\n",
    "display(Audio(f\"{NAME}.out.wav\", autoplay=True))"
   ]
  }
 ],
 "metadata": {
  "accelerator": "GPU",
  "colab": {
   "provenance": []
  },
  "gpuClass": "standard",
  "kernelspec": {
   "display_name": "Python 3",
   "name": "python3"
  },
  "language_info": {
   "codemirror_mode": {
    "name": "ipython",
    "version": 3
   },
   "file_extension": ".py",
   "mimetype": "text/x-python",
   "name": "python",
   "nbconvert_exporter": "python",
   "pygments_lexer": "ipython3",
   "version": "3.8.16"
  }
 },
 "nbformat": 4,
 "nbformat_minor": 0
}
